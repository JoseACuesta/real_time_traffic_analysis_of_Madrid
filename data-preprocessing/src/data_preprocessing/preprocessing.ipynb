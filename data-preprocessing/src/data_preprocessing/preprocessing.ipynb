{
 "cells": [
  {
   "cell_type": "code",
   "execution_count": 2,
   "id": "8d0be552",
   "metadata": {},
   "outputs": [],
   "source": [
    "import pandas as pd"
   ]
  },
  {
   "cell_type": "markdown",
   "id": "83272183",
   "metadata": {},
   "source": [
    "# 1. IMPORT DATA"
   ]
  },
  {
   "cell_type": "markdown",
   "id": "47c246a0",
   "metadata": {},
   "source": [
    "### En primer lugar, importamos el archivo que contiene los datos necesarios para entrenar los distintos modelos de Machine Learning que en un futuro utilizaremos."
   ]
  },
  {
   "cell_type": "code",
   "execution_count": 4,
   "id": "19073556",
   "metadata": {},
   "outputs": [
    {
     "data": {
      "text/html": [
       "<div>\n",
       "<style scoped>\n",
       "    .dataframe tbody tr th:only-of-type {\n",
       "        vertical-align: middle;\n",
       "    }\n",
       "\n",
       "    .dataframe tbody tr th {\n",
       "        vertical-align: top;\n",
       "    }\n",
       "\n",
       "    .dataframe thead th {\n",
       "        text-align: right;\n",
       "    }\n",
       "</style>\n",
       "<table border=\"1\" class=\"dataframe\">\n",
       "  <thead>\n",
       "    <tr style=\"text-align: right;\">\n",
       "      <th></th>\n",
       "      <th>id</th>\n",
       "      <th>fecha</th>\n",
       "      <th>tipo_elem</th>\n",
       "      <th>intensidad</th>\n",
       "      <th>ocupacion</th>\n",
       "      <th>carga</th>\n",
       "      <th>vmed</th>\n",
       "      <th>error</th>\n",
       "      <th>periodo_integracion</th>\n",
       "    </tr>\n",
       "  </thead>\n",
       "  <tbody>\n",
       "    <tr>\n",
       "      <th>0</th>\n",
       "      <td>1001</td>\n",
       "      <td>01/04/2025 9:45</td>\n",
       "      <td>C30</td>\n",
       "      <td>2260</td>\n",
       "      <td>8</td>\n",
       "      <td>0</td>\n",
       "      <td>57.0</td>\n",
       "      <td>N</td>\n",
       "      <td>3</td>\n",
       "    </tr>\n",
       "    <tr>\n",
       "      <th>1</th>\n",
       "      <td>1001</td>\n",
       "      <td>01/04/2025 10:00</td>\n",
       "      <td>C30</td>\n",
       "      <td>2172</td>\n",
       "      <td>7</td>\n",
       "      <td>0</td>\n",
       "      <td>59.0</td>\n",
       "      <td>N</td>\n",
       "      <td>5</td>\n",
       "    </tr>\n",
       "    <tr>\n",
       "      <th>2</th>\n",
       "      <td>1001</td>\n",
       "      <td>01/04/2025 10:15</td>\n",
       "      <td>C30</td>\n",
       "      <td>1680</td>\n",
       "      <td>6</td>\n",
       "      <td>0</td>\n",
       "      <td>54.0</td>\n",
       "      <td>N</td>\n",
       "      <td>2</td>\n",
       "    </tr>\n",
       "    <tr>\n",
       "      <th>3</th>\n",
       "      <td>1002</td>\n",
       "      <td>01/04/2025 0:00</td>\n",
       "      <td>C30</td>\n",
       "      <td>0</td>\n",
       "      <td>0</td>\n",
       "      <td>0</td>\n",
       "      <td>0.0</td>\n",
       "      <td>N</td>\n",
       "      <td>5</td>\n",
       "    </tr>\n",
       "    <tr>\n",
       "      <th>4</th>\n",
       "      <td>1002</td>\n",
       "      <td>01/04/2025 0:15</td>\n",
       "      <td>C30</td>\n",
       "      <td>0</td>\n",
       "      <td>0</td>\n",
       "      <td>0</td>\n",
       "      <td>0.0</td>\n",
       "      <td>N</td>\n",
       "      <td>5</td>\n",
       "    </tr>\n",
       "  </tbody>\n",
       "</table>\n",
       "</div>"
      ],
      "text/plain": [
       "     id             fecha tipo_elem  intensidad  ocupacion  carga  vmed error  \\\n",
       "0  1001   01/04/2025 9:45       C30        2260          8      0  57.0     N   \n",
       "1  1001  01/04/2025 10:00       C30        2172          7      0  59.0     N   \n",
       "2  1001  01/04/2025 10:15       C30        1680          6      0  54.0     N   \n",
       "3  1002   01/04/2025 0:00       C30           0          0      0   0.0     N   \n",
       "4  1002   01/04/2025 0:15       C30           0          0      0   0.0     N   \n",
       "\n",
       "   periodo_integracion  \n",
       "0                    3  \n",
       "1                    5  \n",
       "2                    2  \n",
       "3                    5  \n",
       "4                    5  "
      ]
     },
     "execution_count": 4,
     "metadata": {},
     "output_type": "execute_result"
    }
   ],
   "source": [
    "historic_traffic_data = pd.read_csv(filepath_or_buffer='data/04_2025.csv', sep=';')\n",
    "historic_traffic_data.head()"
   ]
  },
  {
   "cell_type": "markdown",
   "id": "d72d6394",
   "metadata": {},
   "source": [
    "### A continuación, importamos el .csv que contiene los datos de los diferentes puntos de medida de nivel de tráfico en Madrid. De dicho fichero, hay que extraer dos columnas que las añadiremos al primer DataFrame."
   ]
  },
  {
   "cell_type": "code",
   "execution_count": 11,
   "id": "91925790",
   "metadata": {},
   "outputs": [
    {
     "data": {
      "text/html": [
       "<div>\n",
       "<style scoped>\n",
       "    .dataframe tbody tr th:only-of-type {\n",
       "        vertical-align: middle;\n",
       "    }\n",
       "\n",
       "    .dataframe tbody tr th {\n",
       "        vertical-align: top;\n",
       "    }\n",
       "\n",
       "    .dataframe thead th {\n",
       "        text-align: right;\n",
       "    }\n",
       "</style>\n",
       "<table border=\"1\" class=\"dataframe\">\n",
       "  <thead>\n",
       "    <tr style=\"text-align: right;\">\n",
       "      <th></th>\n",
       "      <th>distrito</th>\n",
       "      <th>id</th>\n",
       "    </tr>\n",
       "  </thead>\n",
       "  <tbody>\n",
       "    <tr>\n",
       "      <th>0</th>\n",
       "      <td>8.0</td>\n",
       "      <td>6639</td>\n",
       "    </tr>\n",
       "    <tr>\n",
       "      <th>1</th>\n",
       "      <td>8.0</td>\n",
       "      <td>3797</td>\n",
       "    </tr>\n",
       "    <tr>\n",
       "      <th>2</th>\n",
       "      <td>5.0</td>\n",
       "      <td>6640</td>\n",
       "    </tr>\n",
       "    <tr>\n",
       "      <th>3</th>\n",
       "      <td>5.0</td>\n",
       "      <td>6642</td>\n",
       "    </tr>\n",
       "    <tr>\n",
       "      <th>4</th>\n",
       "      <td>5.0</td>\n",
       "      <td>6643</td>\n",
       "    </tr>\n",
       "  </tbody>\n",
       "</table>\n",
       "</div>"
      ],
      "text/plain": [
       "   distrito    id\n",
       "0       8.0  6639\n",
       "1       8.0  3797\n",
       "2       5.0  6640\n",
       "3       5.0  6642\n",
       "4       5.0  6643"
      ]
     },
     "execution_count": 11,
     "metadata": {},
     "output_type": "execute_result"
    }
   ],
   "source": [
    "columns = ['distrito', 'id']\n",
    "measure_points_data = pd.read_csv(filepath_or_buffer='data/pmed_ubicacion_04_2025.csv', sep=';', usecols=columns, encoding='utf-8')\n",
    "measure_points_data.head()"
   ]
  },
  {
   "cell_type": "markdown",
   "id": "a205af73",
   "metadata": {},
   "source": [
    "### Antes de añadir dichas columnas al DataFrame principal, estudiamos la presencia de valores nulos o en blanco en measure_points_data:"
   ]
  },
  {
   "cell_type": "code",
   "execution_count": 12,
   "id": "5171a320",
   "metadata": {},
   "outputs": [
    {
     "name": "stdout",
     "output_type": "stream",
     "text": [
      "<class 'pandas.core.frame.DataFrame'>\n",
      "RangeIndex: 4973 entries, 0 to 4972\n",
      "Data columns (total 2 columns):\n",
      " #   Column    Non-Null Count  Dtype  \n",
      "---  ------    --------------  -----  \n",
      " 0   distrito  4968 non-null   float64\n",
      " 1   id        4973 non-null   int64  \n",
      "dtypes: float64(1), int64(1)\n",
      "memory usage: 77.8 KB\n"
     ]
    }
   ],
   "source": [
    "measure_points_data.info()"
   ]
  },
  {
   "cell_type": "markdown",
   "id": "9eab9f99",
   "metadata": {},
   "source": [
    "### La columna 'distrito' posee 5 valores nulos, por lo que procederemos a eliminar dichas filas."
   ]
  },
  {
   "cell_type": "code",
   "execution_count": 13,
   "id": "2bec979e",
   "metadata": {},
   "outputs": [
    {
     "name": "stdout",
     "output_type": "stream",
     "text": [
      "<class 'pandas.core.frame.DataFrame'>\n",
      "Index: 4968 entries, 0 to 4972\n",
      "Data columns (total 2 columns):\n",
      " #   Column    Non-Null Count  Dtype  \n",
      "---  ------    --------------  -----  \n",
      " 0   distrito  4968 non-null   float64\n",
      " 1   id        4968 non-null   int64  \n",
      "dtypes: float64(1), int64(1)\n",
      "memory usage: 116.4 KB\n"
     ]
    }
   ],
   "source": [
    "measure_points_data.dropna(inplace=True)\n",
    "measure_points_data.info()"
   ]
  },
  {
   "cell_type": "markdown",
   "id": "8aa3d509",
   "metadata": {},
   "source": [
    "### Unimos ambos DataFrames, sabiendo que ambas columnas 'id' de ambos DataFrame representan lo mismo. La adición de la columna 'distrito' al primer DataFrame nos ayudará posteriormente a llevar a cabo agrupaciones o ver en qué distrito se genera una mayor cantidad de atascos. "
   ]
  },
  {
   "cell_type": "code",
   "execution_count": 14,
   "id": "e0328c5f",
   "metadata": {},
   "outputs": [
    {
     "data": {
      "text/html": [
       "<div>\n",
       "<style scoped>\n",
       "    .dataframe tbody tr th:only-of-type {\n",
       "        vertical-align: middle;\n",
       "    }\n",
       "\n",
       "    .dataframe tbody tr th {\n",
       "        vertical-align: top;\n",
       "    }\n",
       "\n",
       "    .dataframe thead th {\n",
       "        text-align: right;\n",
       "    }\n",
       "</style>\n",
       "<table border=\"1\" class=\"dataframe\">\n",
       "  <thead>\n",
       "    <tr style=\"text-align: right;\">\n",
       "      <th></th>\n",
       "      <th>id</th>\n",
       "      <th>fecha</th>\n",
       "      <th>tipo_elem</th>\n",
       "      <th>intensidad</th>\n",
       "      <th>ocupacion</th>\n",
       "      <th>carga</th>\n",
       "      <th>vmed</th>\n",
       "      <th>error</th>\n",
       "      <th>periodo_integracion</th>\n",
       "      <th>distrito</th>\n",
       "    </tr>\n",
       "  </thead>\n",
       "  <tbody>\n",
       "    <tr>\n",
       "      <th>0</th>\n",
       "      <td>1001</td>\n",
       "      <td>01/04/2025 9:45</td>\n",
       "      <td>C30</td>\n",
       "      <td>2260</td>\n",
       "      <td>8</td>\n",
       "      <td>0</td>\n",
       "      <td>57.0</td>\n",
       "      <td>N</td>\n",
       "      <td>3</td>\n",
       "      <td>10.0</td>\n",
       "    </tr>\n",
       "    <tr>\n",
       "      <th>1</th>\n",
       "      <td>1001</td>\n",
       "      <td>01/04/2025 10:00</td>\n",
       "      <td>C30</td>\n",
       "      <td>2172</td>\n",
       "      <td>7</td>\n",
       "      <td>0</td>\n",
       "      <td>59.0</td>\n",
       "      <td>N</td>\n",
       "      <td>5</td>\n",
       "      <td>10.0</td>\n",
       "    </tr>\n",
       "    <tr>\n",
       "      <th>2</th>\n",
       "      <td>1001</td>\n",
       "      <td>01/04/2025 10:15</td>\n",
       "      <td>C30</td>\n",
       "      <td>1680</td>\n",
       "      <td>6</td>\n",
       "      <td>0</td>\n",
       "      <td>54.0</td>\n",
       "      <td>N</td>\n",
       "      <td>2</td>\n",
       "      <td>10.0</td>\n",
       "    </tr>\n",
       "    <tr>\n",
       "      <th>3</th>\n",
       "      <td>1002</td>\n",
       "      <td>01/04/2025 0:00</td>\n",
       "      <td>C30</td>\n",
       "      <td>0</td>\n",
       "      <td>0</td>\n",
       "      <td>0</td>\n",
       "      <td>0.0</td>\n",
       "      <td>N</td>\n",
       "      <td>5</td>\n",
       "      <td>10.0</td>\n",
       "    </tr>\n",
       "    <tr>\n",
       "      <th>4</th>\n",
       "      <td>1002</td>\n",
       "      <td>01/04/2025 0:15</td>\n",
       "      <td>C30</td>\n",
       "      <td>0</td>\n",
       "      <td>0</td>\n",
       "      <td>0</td>\n",
       "      <td>0.0</td>\n",
       "      <td>N</td>\n",
       "      <td>5</td>\n",
       "      <td>10.0</td>\n",
       "    </tr>\n",
       "  </tbody>\n",
       "</table>\n",
       "</div>"
      ],
      "text/plain": [
       "     id             fecha tipo_elem  intensidad  ocupacion  carga  vmed error  \\\n",
       "0  1001   01/04/2025 9:45       C30        2260          8      0  57.0     N   \n",
       "1  1001  01/04/2025 10:00       C30        2172          7      0  59.0     N   \n",
       "2  1001  01/04/2025 10:15       C30        1680          6      0  54.0     N   \n",
       "3  1002   01/04/2025 0:00       C30           0          0      0   0.0     N   \n",
       "4  1002   01/04/2025 0:15       C30           0          0      0   0.0     N   \n",
       "\n",
       "   periodo_integracion  distrito  \n",
       "0                    3      10.0  \n",
       "1                    5      10.0  \n",
       "2                    2      10.0  \n",
       "3                    5      10.0  \n",
       "4                    5      10.0  "
      ]
     },
     "execution_count": 14,
     "metadata": {},
     "output_type": "execute_result"
    }
   ],
   "source": [
    "data = historic_traffic_data.merge(measure_points_data, left_on='id', right_on='id')\n",
    "data.head()"
   ]
  }
 ],
 "metadata": {
  "kernelspec": {
   "display_name": "base",
   "language": "python",
   "name": "python3"
  },
  "language_info": {
   "codemirror_mode": {
    "name": "ipython",
    "version": 3
   },
   "file_extension": ".py",
   "mimetype": "text/x-python",
   "name": "python",
   "nbconvert_exporter": "python",
   "pygments_lexer": "ipython3",
   "version": "3.12.7"
  }
 },
 "nbformat": 4,
 "nbformat_minor": 5
}
