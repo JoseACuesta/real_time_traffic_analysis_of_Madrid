{
 "cells": [
  {
   "cell_type": "code",
   "execution_count": 44,
   "id": "b7a9e9e5",
   "metadata": {},
   "outputs": [],
   "source": [
    "import pandas as pd\n",
    "import numpy as np\n",
    "\n",
    "# from sklearn.compose import ColumnTransformer\n",
    "from sklearn.preprocessing import StandardScaler\n",
    "from sklearn.preprocessing import OneHotEncoder\n",
    "# from sklearn.pipeline import Pipeline\n",
    "from sklearn.ensemble import RandomForestRegressor\n",
    "from sklearn.model_selection import GridSearchCV\n",
    "from sklearn.metrics import mean_absolute_error\n",
    "from matplotlib import pyplot as plt\n",
    "%matplotlib inline"
   ]
  },
  {
   "cell_type": "markdown",
   "id": "412b32ff",
   "metadata": {},
   "source": [
    "## 1. IMPORTACIÓN DE LOS DATOS"
   ]
  },
  {
   "cell_type": "markdown",
   "id": "4f70d4ca",
   "metadata": {},
   "source": [
    "#### Importamos los datos desde el .csv elaborado en el paquete data-preprocessing para estudiar los datos."
   ]
  },
  {
   "cell_type": "code",
   "execution_count": 3,
   "id": "e6be8c4a",
   "metadata": {},
   "outputs": [
    {
     "data": {
      "text/html": [
       "<div>\n",
       "<style scoped>\n",
       "    .dataframe tbody tr th:only-of-type {\n",
       "        vertical-align: middle;\n",
       "    }\n",
       "\n",
       "    .dataframe tbody tr th {\n",
       "        vertical-align: top;\n",
       "    }\n",
       "\n",
       "    .dataframe thead th {\n",
       "        text-align: right;\n",
       "    }\n",
       "</style>\n",
       "<table border=\"1\" class=\"dataframe\">\n",
       "  <thead>\n",
       "    <tr style=\"text-align: right;\">\n",
       "      <th></th>\n",
       "      <th>distrito</th>\n",
       "      <th>id</th>\n",
       "      <th>tipo_elem</th>\n",
       "      <th>intensidad</th>\n",
       "      <th>ocupacion</th>\n",
       "      <th>carga</th>\n",
       "      <th>vmed</th>\n",
       "      <th>error</th>\n",
       "      <th>periodo_integracion</th>\n",
       "      <th>fecha</th>\n",
       "      <th>hora</th>\n",
       "      <th>prec</th>\n",
       "    </tr>\n",
       "  </thead>\n",
       "  <tbody>\n",
       "    <tr>\n",
       "      <th>0</th>\n",
       "      <td>3</td>\n",
       "      <td>1048</td>\n",
       "      <td>M30</td>\n",
       "      <td>1260.0</td>\n",
       "      <td>5.0</td>\n",
       "      <td>0.0</td>\n",
       "      <td>92.0</td>\n",
       "      <td>N</td>\n",
       "      <td>5.0</td>\n",
       "      <td>2021-12-01</td>\n",
       "      <td>00:00:00</td>\n",
       "      <td>2,4</td>\n",
       "    </tr>\n",
       "    <tr>\n",
       "      <th>1</th>\n",
       "      <td>3</td>\n",
       "      <td>1048</td>\n",
       "      <td>M30</td>\n",
       "      <td>1260.0</td>\n",
       "      <td>5.0</td>\n",
       "      <td>0.0</td>\n",
       "      <td>92.0</td>\n",
       "      <td>N</td>\n",
       "      <td>5.0</td>\n",
       "      <td>2021-12-01</td>\n",
       "      <td>00:15:00</td>\n",
       "      <td>2,4</td>\n",
       "    </tr>\n",
       "    <tr>\n",
       "      <th>2</th>\n",
       "      <td>3</td>\n",
       "      <td>1048</td>\n",
       "      <td>M30</td>\n",
       "      <td>1260.0</td>\n",
       "      <td>5.0</td>\n",
       "      <td>0.0</td>\n",
       "      <td>92.0</td>\n",
       "      <td>N</td>\n",
       "      <td>5.0</td>\n",
       "      <td>2021-12-01</td>\n",
       "      <td>00:30:00</td>\n",
       "      <td>2,4</td>\n",
       "    </tr>\n",
       "    <tr>\n",
       "      <th>3</th>\n",
       "      <td>3</td>\n",
       "      <td>1048</td>\n",
       "      <td>M30</td>\n",
       "      <td>1260.0</td>\n",
       "      <td>5.0</td>\n",
       "      <td>0.0</td>\n",
       "      <td>92.0</td>\n",
       "      <td>N</td>\n",
       "      <td>5.0</td>\n",
       "      <td>2021-12-01</td>\n",
       "      <td>00:45:00</td>\n",
       "      <td>2,4</td>\n",
       "    </tr>\n",
       "    <tr>\n",
       "      <th>4</th>\n",
       "      <td>3</td>\n",
       "      <td>1048</td>\n",
       "      <td>M30</td>\n",
       "      <td>1260.0</td>\n",
       "      <td>5.0</td>\n",
       "      <td>0.0</td>\n",
       "      <td>92.0</td>\n",
       "      <td>N</td>\n",
       "      <td>5.0</td>\n",
       "      <td>2021-12-01</td>\n",
       "      <td>01:00:00</td>\n",
       "      <td>2,4</td>\n",
       "    </tr>\n",
       "    <tr>\n",
       "      <th>...</th>\n",
       "      <td>...</td>\n",
       "      <td>...</td>\n",
       "      <td>...</td>\n",
       "      <td>...</td>\n",
       "      <td>...</td>\n",
       "      <td>...</td>\n",
       "      <td>...</td>\n",
       "      <td>...</td>\n",
       "      <td>...</td>\n",
       "      <td>...</td>\n",
       "      <td>...</td>\n",
       "      <td>...</td>\n",
       "    </tr>\n",
       "    <tr>\n",
       "      <th>1696108</th>\n",
       "      <td>3</td>\n",
       "      <td>11118</td>\n",
       "      <td>URB</td>\n",
       "      <td>68.0</td>\n",
       "      <td>0.0</td>\n",
       "      <td>4.0</td>\n",
       "      <td>0.0</td>\n",
       "      <td>N</td>\n",
       "      <td>14.0</td>\n",
       "      <td>2024-12-31</td>\n",
       "      <td>22:45:00</td>\n",
       "      <td>0,0</td>\n",
       "    </tr>\n",
       "    <tr>\n",
       "      <th>1696109</th>\n",
       "      <td>3</td>\n",
       "      <td>11118</td>\n",
       "      <td>URB</td>\n",
       "      <td>87.0</td>\n",
       "      <td>0.0</td>\n",
       "      <td>3.0</td>\n",
       "      <td>0.0</td>\n",
       "      <td>N</td>\n",
       "      <td>14.0</td>\n",
       "      <td>2024-12-31</td>\n",
       "      <td>23:00:00</td>\n",
       "      <td>0,0</td>\n",
       "    </tr>\n",
       "    <tr>\n",
       "      <th>1696110</th>\n",
       "      <td>3</td>\n",
       "      <td>11118</td>\n",
       "      <td>URB</td>\n",
       "      <td>76.0</td>\n",
       "      <td>0.0</td>\n",
       "      <td>3.0</td>\n",
       "      <td>0.0</td>\n",
       "      <td>N</td>\n",
       "      <td>13.0</td>\n",
       "      <td>2024-12-31</td>\n",
       "      <td>23:15:00</td>\n",
       "      <td>0,0</td>\n",
       "    </tr>\n",
       "    <tr>\n",
       "      <th>1696111</th>\n",
       "      <td>3</td>\n",
       "      <td>11118</td>\n",
       "      <td>URB</td>\n",
       "      <td>53.0</td>\n",
       "      <td>0.0</td>\n",
       "      <td>3.0</td>\n",
       "      <td>0.0</td>\n",
       "      <td>N</td>\n",
       "      <td>6.0</td>\n",
       "      <td>2024-12-31</td>\n",
       "      <td>23:30:00</td>\n",
       "      <td>0,0</td>\n",
       "    </tr>\n",
       "    <tr>\n",
       "      <th>1696112</th>\n",
       "      <td>3</td>\n",
       "      <td>11118</td>\n",
       "      <td>URB</td>\n",
       "      <td>72.0</td>\n",
       "      <td>0.0</td>\n",
       "      <td>2.0</td>\n",
       "      <td>0.0</td>\n",
       "      <td>N</td>\n",
       "      <td>5.0</td>\n",
       "      <td>2024-12-31</td>\n",
       "      <td>23:45:00</td>\n",
       "      <td>0,0</td>\n",
       "    </tr>\n",
       "  </tbody>\n",
       "</table>\n",
       "<p>1689282 rows × 12 columns</p>\n",
       "</div>"
      ],
      "text/plain": [
       "         distrito     id tipo_elem  intensidad  ocupacion  carga  vmed error  \\\n",
       "0               3   1048       M30      1260.0        5.0    0.0  92.0     N   \n",
       "1               3   1048       M30      1260.0        5.0    0.0  92.0     N   \n",
       "2               3   1048       M30      1260.0        5.0    0.0  92.0     N   \n",
       "3               3   1048       M30      1260.0        5.0    0.0  92.0     N   \n",
       "4               3   1048       M30      1260.0        5.0    0.0  92.0     N   \n",
       "...           ...    ...       ...         ...        ...    ...   ...   ...   \n",
       "1696108         3  11118       URB        68.0        0.0    4.0   0.0     N   \n",
       "1696109         3  11118       URB        87.0        0.0    3.0   0.0     N   \n",
       "1696110         3  11118       URB        76.0        0.0    3.0   0.0     N   \n",
       "1696111         3  11118       URB        53.0        0.0    3.0   0.0     N   \n",
       "1696112         3  11118       URB        72.0        0.0    2.0   0.0     N   \n",
       "\n",
       "         periodo_integracion       fecha      hora prec  \n",
       "0                        5.0  2021-12-01  00:00:00  2,4  \n",
       "1                        5.0  2021-12-01  00:15:00  2,4  \n",
       "2                        5.0  2021-12-01  00:30:00  2,4  \n",
       "3                        5.0  2021-12-01  00:45:00  2,4  \n",
       "4                        5.0  2021-12-01  01:00:00  2,4  \n",
       "...                      ...         ...       ...  ...  \n",
       "1696108                 14.0  2024-12-31  22:45:00  0,0  \n",
       "1696109                 14.0  2024-12-31  23:00:00  0,0  \n",
       "1696110                 13.0  2024-12-31  23:15:00  0,0  \n",
       "1696111                  6.0  2024-12-31  23:30:00  0,0  \n",
       "1696112                  5.0  2024-12-31  23:45:00  0,0  \n",
       "\n",
       "[1689282 rows x 12 columns]"
      ]
     },
     "execution_count": 3,
     "metadata": {},
     "output_type": "execute_result"
    }
   ],
   "source": [
    "path = \"../../../data-preprocessing/src/data_preprocessing/data/provisional_final_data.parquet\"\n",
    "data = pd.read_parquet(path=path).dropna().drop_duplicates()\n",
    "data"
   ]
  },
  {
   "cell_type": "code",
   "execution_count": 4,
   "id": "39303e86",
   "metadata": {},
   "outputs": [],
   "source": [
    "data['fecha'] = pd.to_datetime(data['fecha'], format='%Y-%m-%d')\n",
    "data['year'] = data['fecha'].dt.year"
   ]
  },
  {
   "cell_type": "code",
   "execution_count": 10,
   "id": "9e665723",
   "metadata": {},
   "outputs": [],
   "source": [
    "# Filtrar las filas donde tipo_elem no sea 'C30'\n",
    "data = data[data['tipo_elem'] != 'C30']\n",
    "\n",
    "# Agrupar y contar\n",
    "result = (\n",
    "    data.groupby(['distrito', 'year', 'tipo_elem'])\n",
    "               .size()\n",
    "               .reset_index(name='num_muestras')\n",
    ")"
   ]
  },
  {
   "cell_type": "code",
   "execution_count": 11,
   "id": "2836d55e",
   "metadata": {},
   "outputs": [
    {
     "name": "stdout",
     "output_type": "stream",
     "text": [
      "   distrito  year tipo_elem  num_muestras\n",
      "0         3  2021       M30         74971\n",
      "1         3  2021       URB        339768\n",
      "2         3  2022       M30         54278\n",
      "3         3  2022       URB        321727\n",
      "4         3  2023       M30         55826\n",
      "5         3  2023       URB        365948\n",
      "6         3  2024       M30         52665\n",
      "7         3  2024       URB        366753\n"
     ]
    }
   ],
   "source": [
    "print(result)"
   ]
  },
  {
   "cell_type": "code",
   "execution_count": 9,
   "id": "6ccee552",
   "metadata": {},
   "outputs": [
    {
     "data": {
      "text/plain": [
       "tipo_elem  year\n",
       "C30        2022     19292\n",
       "           2023     20336\n",
       "           2024     17718\n",
       "M30        2021     74971\n",
       "           2022     54278\n",
       "           2023     55826\n",
       "           2024     52665\n",
       "URB        2021    339768\n",
       "           2022    321727\n",
       "           2023    365948\n",
       "           2024    366753\n",
       "Name: carga, dtype: int64"
      ]
     },
     "execution_count": 9,
     "metadata": {},
     "output_type": "execute_result"
    }
   ],
   "source": [
    "values_per_tipo_elem_distrito_centro = data.groupby(['tipo_elem', 'year'])['carga'].count()\n",
    "values_per_tipo_elem_distrito_centro"
   ]
  },
  {
   "cell_type": "markdown",
   "id": "e88f299d",
   "metadata": {},
   "source": [
    "## 2. TRANSFORMACIÓN DE LOS DATOS"
   ]
  },
  {
   "cell_type": "markdown",
   "id": "a2805e01",
   "metadata": {},
   "source": [
    "#### Estudiamos la presencia de valores nulos"
   ]
  },
  {
   "cell_type": "code",
   "execution_count": 12,
   "id": "2113e7ae",
   "metadata": {},
   "outputs": [
    {
     "name": "stdout",
     "output_type": "stream",
     "text": [
      "<class 'pandas.core.frame.DataFrame'>\n",
      "Index: 1631936 entries, 0 to 1696112\n",
      "Data columns (total 13 columns):\n",
      " #   Column               Non-Null Count    Dtype         \n",
      "---  ------               --------------    -----         \n",
      " 0   distrito             1631936 non-null  int64         \n",
      " 1   id                   1631936 non-null  int64         \n",
      " 2   tipo_elem            1631936 non-null  object        \n",
      " 3   intensidad           1631936 non-null  float64       \n",
      " 4   ocupacion            1631936 non-null  float64       \n",
      " 5   carga                1631936 non-null  float64       \n",
      " 6   vmed                 1631936 non-null  float64       \n",
      " 7   error                1631936 non-null  object        \n",
      " 8   periodo_integracion  1631936 non-null  float64       \n",
      " 9   fecha                1631936 non-null  datetime64[ns]\n",
      " 10  hora                 1631936 non-null  object        \n",
      " 11  prec                 1631936 non-null  object        \n",
      " 12  year                 1631936 non-null  int32         \n",
      "dtypes: datetime64[ns](1), float64(5), int32(1), int64(2), object(4)\n",
      "memory usage: 168.1+ MB\n"
     ]
    }
   ],
   "source": [
    "data.info(verbose=True, show_counts=True)"
   ]
  },
  {
   "cell_type": "markdown",
   "id": "397aaae3",
   "metadata": {},
   "source": [
    "#### Como se puede observar, las columnas ocupacion, vmed y error presentan valores nulos. Veamos cuántos valores nulos presenta cada columna."
   ]
  },
  {
   "cell_type": "code",
   "execution_count": 13,
   "id": "e1ff8e9f",
   "metadata": {},
   "outputs": [
    {
     "name": "stdout",
     "output_type": "stream",
     "text": [
      "La columna null_values_ocupacion presenta 0 valores nulos\n",
      "La columna null_values_vmed presenta 0 valores nulos\n",
      "La columna null_values_error presenta 0 valores nulos\n"
     ]
    }
   ],
   "source": [
    "null_values_ocupacion = data['ocupacion'].isnull().sum()\n",
    "print(f\"La columna null_values_ocupacion presenta {null_values_ocupacion} valores nulos\")\n",
    "null_values_vmed = data['vmed'].isnull().sum()\n",
    "print(f\"La columna null_values_vmed presenta {null_values_vmed} valores nulos\")\n",
    "null_values_error = data['error'].isnull().sum()\n",
    "print(f\"La columna null_values_error presenta {null_values_error} valores nulos\")"
   ]
  },
  {
   "cell_type": "markdown",
   "id": "44e806fa",
   "metadata": {},
   "source": [
    "#### A partir de la columna fecha vamos a obtener otras columnas: year, month, day, name_of_day, is_weekend, is_holiday y minutes_since_midnight.\n",
    "#### En principio, el modelo que vamos a utilizar es un Random Forest Regressor. Cuando utilizamos este modelo, no nos tenemos que preocupar por relaciones cíclicas y además, maneja bien variables numéricas discretas y continuas. Es por ello, por lo que vamos a añadir una columna llamada minutes_since_midnight para capturar el momento del día.\n",
    "#### Esto nos permitirá posteriormente saber en qué días se ha producido mayor congestión según el año."
   ]
  },
  {
   "cell_type": "code",
   "execution_count": 14,
   "id": "a0a2be08",
   "metadata": {},
   "outputs": [
    {
     "name": "stderr",
     "output_type": "stream",
     "text": [
      "C:\\Users\\jacbj\\AppData\\Local\\Temp\\ipykernel_9168\\4289032295.py:1: SettingWithCopyWarning: \n",
      "A value is trying to be set on a copy of a slice from a DataFrame.\n",
      "Try using .loc[row_indexer,col_indexer] = value instead\n",
      "\n",
      "See the caveats in the documentation: https://pandas.pydata.org/pandas-docs/stable/user_guide/indexing.html#returning-a-view-versus-a-copy\n",
      "  data['hora'] = pd.to_datetime(data['hora'], format='%H:%M:%S')\n",
      "C:\\Users\\jacbj\\AppData\\Local\\Temp\\ipykernel_9168\\4289032295.py:3: SettingWithCopyWarning: \n",
      "A value is trying to be set on a copy of a slice from a DataFrame.\n",
      "Try using .loc[row_indexer,col_indexer] = value instead\n",
      "\n",
      "See the caveats in the documentation: https://pandas.pydata.org/pandas-docs/stable/user_guide/indexing.html#returning-a-view-versus-a-copy\n",
      "  data['year'] = data['fecha'].dt.year\n",
      "C:\\Users\\jacbj\\AppData\\Local\\Temp\\ipykernel_9168\\4289032295.py:4: SettingWithCopyWarning: \n",
      "A value is trying to be set on a copy of a slice from a DataFrame.\n",
      "Try using .loc[row_indexer,col_indexer] = value instead\n",
      "\n",
      "See the caveats in the documentation: https://pandas.pydata.org/pandas-docs/stable/user_guide/indexing.html#returning-a-view-versus-a-copy\n",
      "  data['month'] = data['fecha'].dt.month\n",
      "C:\\Users\\jacbj\\AppData\\Local\\Temp\\ipykernel_9168\\4289032295.py:5: SettingWithCopyWarning: \n",
      "A value is trying to be set on a copy of a slice from a DataFrame.\n",
      "Try using .loc[row_indexer,col_indexer] = value instead\n",
      "\n",
      "See the caveats in the documentation: https://pandas.pydata.org/pandas-docs/stable/user_guide/indexing.html#returning-a-view-versus-a-copy\n",
      "  data['day'] = data['fecha'].dt.day\n",
      "C:\\Users\\jacbj\\AppData\\Local\\Temp\\ipykernel_9168\\4289032295.py:6: SettingWithCopyWarning: \n",
      "A value is trying to be set on a copy of a slice from a DataFrame.\n",
      "Try using .loc[row_indexer,col_indexer] = value instead\n",
      "\n",
      "See the caveats in the documentation: https://pandas.pydata.org/pandas-docs/stable/user_guide/indexing.html#returning-a-view-versus-a-copy\n",
      "  data['day_of_the_week'] = data['fecha'].dt.weekday\n",
      "C:\\Users\\jacbj\\AppData\\Local\\Temp\\ipykernel_9168\\4289032295.py:7: SettingWithCopyWarning: \n",
      "A value is trying to be set on a copy of a slice from a DataFrame.\n",
      "Try using .loc[row_indexer,col_indexer] = value instead\n",
      "\n",
      "See the caveats in the documentation: https://pandas.pydata.org/pandas-docs/stable/user_guide/indexing.html#returning-a-view-versus-a-copy\n",
      "  data['is_weekend'] = data['day_of_the_week'].isin([5,6]).astype(int)\n",
      "C:\\Users\\jacbj\\AppData\\Local\\Temp\\ipykernel_9168\\4289032295.py:8: SettingWithCopyWarning: \n",
      "A value is trying to be set on a copy of a slice from a DataFrame.\n",
      "Try using .loc[row_indexer,col_indexer] = value instead\n",
      "\n",
      "See the caveats in the documentation: https://pandas.pydata.org/pandas-docs/stable/user_guide/indexing.html#returning-a-view-versus-a-copy\n",
      "  data['is_holiday'] = np.where(\n",
      "C:\\Users\\jacbj\\AppData\\Local\\Temp\\ipykernel_9168\\4289032295.py:14: SettingWithCopyWarning: \n",
      "A value is trying to be set on a copy of a slice from a DataFrame.\n",
      "Try using .loc[row_indexer,col_indexer] = value instead\n",
      "\n",
      "See the caveats in the documentation: https://pandas.pydata.org/pandas-docs/stable/user_guide/indexing.html#returning-a-view-versus-a-copy\n",
      "  data['minuntes_since_midnight'] = (\n",
      "C:\\Users\\jacbj\\AppData\\Local\\Temp\\ipykernel_9168\\4289032295.py:18: SettingWithCopyWarning: \n",
      "A value is trying to be set on a copy of a slice from a DataFrame\n",
      "\n",
      "See the caveats in the documentation: https://pandas.pydata.org/pandas-docs/stable/user_guide/indexing.html#returning-a-view-versus-a-copy\n",
      "  data.drop(columns=['fecha', 'hora'], inplace=True)\n"
     ]
    },
    {
     "data": {
      "text/html": [
       "<div>\n",
       "<style scoped>\n",
       "    .dataframe tbody tr th:only-of-type {\n",
       "        vertical-align: middle;\n",
       "    }\n",
       "\n",
       "    .dataframe tbody tr th {\n",
       "        vertical-align: top;\n",
       "    }\n",
       "\n",
       "    .dataframe thead th {\n",
       "        text-align: right;\n",
       "    }\n",
       "</style>\n",
       "<table border=\"1\" class=\"dataframe\">\n",
       "  <thead>\n",
       "    <tr style=\"text-align: right;\">\n",
       "      <th></th>\n",
       "      <th>distrito</th>\n",
       "      <th>id</th>\n",
       "      <th>tipo_elem</th>\n",
       "      <th>intensidad</th>\n",
       "      <th>ocupacion</th>\n",
       "      <th>carga</th>\n",
       "      <th>vmed</th>\n",
       "      <th>error</th>\n",
       "      <th>periodo_integracion</th>\n",
       "      <th>prec</th>\n",
       "      <th>year</th>\n",
       "      <th>month</th>\n",
       "      <th>day</th>\n",
       "      <th>day_of_the_week</th>\n",
       "      <th>is_weekend</th>\n",
       "      <th>is_holiday</th>\n",
       "      <th>minuntes_since_midnight</th>\n",
       "    </tr>\n",
       "  </thead>\n",
       "  <tbody>\n",
       "    <tr>\n",
       "      <th>0</th>\n",
       "      <td>3</td>\n",
       "      <td>1048</td>\n",
       "      <td>M30</td>\n",
       "      <td>1260.0</td>\n",
       "      <td>5.0</td>\n",
       "      <td>0.0</td>\n",
       "      <td>92.0</td>\n",
       "      <td>N</td>\n",
       "      <td>5.0</td>\n",
       "      <td>2,4</td>\n",
       "      <td>2021</td>\n",
       "      <td>12</td>\n",
       "      <td>1</td>\n",
       "      <td>2</td>\n",
       "      <td>0</td>\n",
       "      <td>0.0</td>\n",
       "      <td>0.0</td>\n",
       "    </tr>\n",
       "    <tr>\n",
       "      <th>1</th>\n",
       "      <td>3</td>\n",
       "      <td>1048</td>\n",
       "      <td>M30</td>\n",
       "      <td>1260.0</td>\n",
       "      <td>5.0</td>\n",
       "      <td>0.0</td>\n",
       "      <td>92.0</td>\n",
       "      <td>N</td>\n",
       "      <td>5.0</td>\n",
       "      <td>2,4</td>\n",
       "      <td>2021</td>\n",
       "      <td>12</td>\n",
       "      <td>1</td>\n",
       "      <td>2</td>\n",
       "      <td>0</td>\n",
       "      <td>0.0</td>\n",
       "      <td>15.0</td>\n",
       "    </tr>\n",
       "    <tr>\n",
       "      <th>2</th>\n",
       "      <td>3</td>\n",
       "      <td>1048</td>\n",
       "      <td>M30</td>\n",
       "      <td>1260.0</td>\n",
       "      <td>5.0</td>\n",
       "      <td>0.0</td>\n",
       "      <td>92.0</td>\n",
       "      <td>N</td>\n",
       "      <td>5.0</td>\n",
       "      <td>2,4</td>\n",
       "      <td>2021</td>\n",
       "      <td>12</td>\n",
       "      <td>1</td>\n",
       "      <td>2</td>\n",
       "      <td>0</td>\n",
       "      <td>0.0</td>\n",
       "      <td>30.0</td>\n",
       "    </tr>\n",
       "    <tr>\n",
       "      <th>3</th>\n",
       "      <td>3</td>\n",
       "      <td>1048</td>\n",
       "      <td>M30</td>\n",
       "      <td>1260.0</td>\n",
       "      <td>5.0</td>\n",
       "      <td>0.0</td>\n",
       "      <td>92.0</td>\n",
       "      <td>N</td>\n",
       "      <td>5.0</td>\n",
       "      <td>2,4</td>\n",
       "      <td>2021</td>\n",
       "      <td>12</td>\n",
       "      <td>1</td>\n",
       "      <td>2</td>\n",
       "      <td>0</td>\n",
       "      <td>0.0</td>\n",
       "      <td>45.0</td>\n",
       "    </tr>\n",
       "    <tr>\n",
       "      <th>4</th>\n",
       "      <td>3</td>\n",
       "      <td>1048</td>\n",
       "      <td>M30</td>\n",
       "      <td>1260.0</td>\n",
       "      <td>5.0</td>\n",
       "      <td>0.0</td>\n",
       "      <td>92.0</td>\n",
       "      <td>N</td>\n",
       "      <td>5.0</td>\n",
       "      <td>2,4</td>\n",
       "      <td>2021</td>\n",
       "      <td>12</td>\n",
       "      <td>1</td>\n",
       "      <td>2</td>\n",
       "      <td>0</td>\n",
       "      <td>0.0</td>\n",
       "      <td>60.0</td>\n",
       "    </tr>\n",
       "    <tr>\n",
       "      <th>...</th>\n",
       "      <td>...</td>\n",
       "      <td>...</td>\n",
       "      <td>...</td>\n",
       "      <td>...</td>\n",
       "      <td>...</td>\n",
       "      <td>...</td>\n",
       "      <td>...</td>\n",
       "      <td>...</td>\n",
       "      <td>...</td>\n",
       "      <td>...</td>\n",
       "      <td>...</td>\n",
       "      <td>...</td>\n",
       "      <td>...</td>\n",
       "      <td>...</td>\n",
       "      <td>...</td>\n",
       "      <td>...</td>\n",
       "      <td>...</td>\n",
       "    </tr>\n",
       "    <tr>\n",
       "      <th>1696108</th>\n",
       "      <td>3</td>\n",
       "      <td>11118</td>\n",
       "      <td>URB</td>\n",
       "      <td>68.0</td>\n",
       "      <td>0.0</td>\n",
       "      <td>4.0</td>\n",
       "      <td>0.0</td>\n",
       "      <td>N</td>\n",
       "      <td>14.0</td>\n",
       "      <td>0,0</td>\n",
       "      <td>2024</td>\n",
       "      <td>12</td>\n",
       "      <td>31</td>\n",
       "      <td>1</td>\n",
       "      <td>0</td>\n",
       "      <td>0.0</td>\n",
       "      <td>1365.0</td>\n",
       "    </tr>\n",
       "    <tr>\n",
       "      <th>1696109</th>\n",
       "      <td>3</td>\n",
       "      <td>11118</td>\n",
       "      <td>URB</td>\n",
       "      <td>87.0</td>\n",
       "      <td>0.0</td>\n",
       "      <td>3.0</td>\n",
       "      <td>0.0</td>\n",
       "      <td>N</td>\n",
       "      <td>14.0</td>\n",
       "      <td>0,0</td>\n",
       "      <td>2024</td>\n",
       "      <td>12</td>\n",
       "      <td>31</td>\n",
       "      <td>1</td>\n",
       "      <td>0</td>\n",
       "      <td>0.0</td>\n",
       "      <td>1380.0</td>\n",
       "    </tr>\n",
       "    <tr>\n",
       "      <th>1696110</th>\n",
       "      <td>3</td>\n",
       "      <td>11118</td>\n",
       "      <td>URB</td>\n",
       "      <td>76.0</td>\n",
       "      <td>0.0</td>\n",
       "      <td>3.0</td>\n",
       "      <td>0.0</td>\n",
       "      <td>N</td>\n",
       "      <td>13.0</td>\n",
       "      <td>0,0</td>\n",
       "      <td>2024</td>\n",
       "      <td>12</td>\n",
       "      <td>31</td>\n",
       "      <td>1</td>\n",
       "      <td>0</td>\n",
       "      <td>0.0</td>\n",
       "      <td>1395.0</td>\n",
       "    </tr>\n",
       "    <tr>\n",
       "      <th>1696111</th>\n",
       "      <td>3</td>\n",
       "      <td>11118</td>\n",
       "      <td>URB</td>\n",
       "      <td>53.0</td>\n",
       "      <td>0.0</td>\n",
       "      <td>3.0</td>\n",
       "      <td>0.0</td>\n",
       "      <td>N</td>\n",
       "      <td>6.0</td>\n",
       "      <td>0,0</td>\n",
       "      <td>2024</td>\n",
       "      <td>12</td>\n",
       "      <td>31</td>\n",
       "      <td>1</td>\n",
       "      <td>0</td>\n",
       "      <td>0.0</td>\n",
       "      <td>1410.0</td>\n",
       "    </tr>\n",
       "    <tr>\n",
       "      <th>1696112</th>\n",
       "      <td>3</td>\n",
       "      <td>11118</td>\n",
       "      <td>URB</td>\n",
       "      <td>72.0</td>\n",
       "      <td>0.0</td>\n",
       "      <td>2.0</td>\n",
       "      <td>0.0</td>\n",
       "      <td>N</td>\n",
       "      <td>5.0</td>\n",
       "      <td>0,0</td>\n",
       "      <td>2024</td>\n",
       "      <td>12</td>\n",
       "      <td>31</td>\n",
       "      <td>1</td>\n",
       "      <td>0</td>\n",
       "      <td>0.0</td>\n",
       "      <td>1425.0</td>\n",
       "    </tr>\n",
       "  </tbody>\n",
       "</table>\n",
       "<p>1631936 rows × 17 columns</p>\n",
       "</div>"
      ],
      "text/plain": [
       "         distrito     id tipo_elem  intensidad  ocupacion  carga  vmed error  \\\n",
       "0               3   1048       M30      1260.0        5.0    0.0  92.0     N   \n",
       "1               3   1048       M30      1260.0        5.0    0.0  92.0     N   \n",
       "2               3   1048       M30      1260.0        5.0    0.0  92.0     N   \n",
       "3               3   1048       M30      1260.0        5.0    0.0  92.0     N   \n",
       "4               3   1048       M30      1260.0        5.0    0.0  92.0     N   \n",
       "...           ...    ...       ...         ...        ...    ...   ...   ...   \n",
       "1696108         3  11118       URB        68.0        0.0    4.0   0.0     N   \n",
       "1696109         3  11118       URB        87.0        0.0    3.0   0.0     N   \n",
       "1696110         3  11118       URB        76.0        0.0    3.0   0.0     N   \n",
       "1696111         3  11118       URB        53.0        0.0    3.0   0.0     N   \n",
       "1696112         3  11118       URB        72.0        0.0    2.0   0.0     N   \n",
       "\n",
       "         periodo_integracion prec  year  month  day  day_of_the_week  \\\n",
       "0                        5.0  2,4  2021     12    1                2   \n",
       "1                        5.0  2,4  2021     12    1                2   \n",
       "2                        5.0  2,4  2021     12    1                2   \n",
       "3                        5.0  2,4  2021     12    1                2   \n",
       "4                        5.0  2,4  2021     12    1                2   \n",
       "...                      ...  ...   ...    ...  ...              ...   \n",
       "1696108                 14.0  0,0  2024     12   31                1   \n",
       "1696109                 14.0  0,0  2024     12   31                1   \n",
       "1696110                 13.0  0,0  2024     12   31                1   \n",
       "1696111                  6.0  0,0  2024     12   31                1   \n",
       "1696112                  5.0  0,0  2024     12   31                1   \n",
       "\n",
       "         is_weekend  is_holiday  minuntes_since_midnight  \n",
       "0                 0         0.0                      0.0  \n",
       "1                 0         0.0                     15.0  \n",
       "2                 0         0.0                     30.0  \n",
       "3                 0         0.0                     45.0  \n",
       "4                 0         0.0                     60.0  \n",
       "...             ...         ...                      ...  \n",
       "1696108           0         0.0                   1365.0  \n",
       "1696109           0         0.0                   1380.0  \n",
       "1696110           0         0.0                   1395.0  \n",
       "1696111           0         0.0                   1410.0  \n",
       "1696112           0         0.0                   1425.0  \n",
       "\n",
       "[1631936 rows x 17 columns]"
      ]
     },
     "execution_count": 14,
     "metadata": {},
     "output_type": "execute_result"
    }
   ],
   "source": [
    "data['hora'] = pd.to_datetime(data['hora'], format='%H:%M:%S')\n",
    "\n",
    "data['year'] = data['fecha'].dt.year\n",
    "data['month'] = data['fecha'].dt.month\n",
    "data['day'] = data['fecha'].dt.day\n",
    "data['day_of_the_week'] = data['fecha'].dt.weekday\n",
    "data['is_weekend'] = data['day_of_the_week'].isin([5,6]).astype(int)\n",
    "data['is_holiday'] = np.where(\n",
    "    (data['day'].isin([6, 8, 25]))|\n",
    "    ((data['year'] == 2024) & (data['day'] == 9)),\n",
    "    1.0,\n",
    "    0.0\n",
    "    )\n",
    "data['minuntes_since_midnight'] = (\n",
    "    data['hora'].dt.hour * 60 +\n",
    "    data['hora'].dt.minute).astype(float)\n",
    "\n",
    "data.drop(columns=['fecha', 'hora'], inplace=True)\n",
    "data"
   ]
  },
  {
   "cell_type": "code",
   "execution_count": 15,
   "id": "e81b4caa",
   "metadata": {},
   "outputs": [
    {
     "name": "stderr",
     "output_type": "stream",
     "text": [
      "C:\\Users\\jacbj\\AppData\\Local\\Temp\\ipykernel_9168\\496329682.py:2: SettingWithCopyWarning: \n",
      "A value is trying to be set on a copy of a slice from a DataFrame.\n",
      "Try using .loc[row_indexer,col_indexer] = value instead\n",
      "\n",
      "See the caveats in the documentation: https://pandas.pydata.org/pandas-docs/stable/user_guide/indexing.html#returning-a-view-versus-a-copy\n",
      "  data[cols_to_convert] = data[cols_to_convert].astype('float64')\n"
     ]
    },
    {
     "name": "stdout",
     "output_type": "stream",
     "text": [
      "<class 'pandas.core.frame.DataFrame'>\n",
      "Index: 1631936 entries, 0 to 1696112\n",
      "Data columns (total 17 columns):\n",
      " #   Column                   Non-Null Count    Dtype  \n",
      "---  ------                   --------------    -----  \n",
      " 0   distrito                 1631936 non-null  int64  \n",
      " 1   id                       1631936 non-null  float64\n",
      " 2   tipo_elem                1631936 non-null  object \n",
      " 3   intensidad               1631936 non-null  float64\n",
      " 4   ocupacion                1631936 non-null  float64\n",
      " 5   carga                    1631936 non-null  float64\n",
      " 6   vmed                     1631936 non-null  float64\n",
      " 7   error                    1631936 non-null  object \n",
      " 8   periodo_integracion      1631936 non-null  float64\n",
      " 9   prec                     1631936 non-null  float64\n",
      " 10  year                     1631936 non-null  float64\n",
      " 11  month                    1631936 non-null  float64\n",
      " 12  day                      1631936 non-null  float64\n",
      " 13  day_of_the_week          1631936 non-null  float64\n",
      " 14  is_weekend               1631936 non-null  float64\n",
      " 15  is_holiday               1631936 non-null  float64\n",
      " 16  minuntes_since_midnight  1631936 non-null  float64\n",
      "dtypes: float64(14), int64(1), object(2)\n",
      "memory usage: 224.1+ MB\n"
     ]
    },
    {
     "name": "stderr",
     "output_type": "stream",
     "text": [
      "C:\\Users\\jacbj\\AppData\\Local\\Temp\\ipykernel_9168\\496329682.py:5: SettingWithCopyWarning: \n",
      "A value is trying to be set on a copy of a slice from a DataFrame.\n",
      "Try using .loc[row_indexer,col_indexer] = value instead\n",
      "\n",
      "See the caveats in the documentation: https://pandas.pydata.org/pandas-docs/stable/user_guide/indexing.html#returning-a-view-versus-a-copy\n",
      "  data['prec'] = data['prec'].str.replace(',', '.').astype(float)\n"
     ]
    }
   ],
   "source": [
    "cols_to_convert = ['id', 'intensidad', 'carga', 'periodo_integracion', 'year', 'month', 'day', 'day_of_the_week', 'is_weekend']\n",
    "data[cols_to_convert] = data[cols_to_convert].astype('float64')\n",
    "\n",
    "if data['prec'].dtype != float:\n",
    "    data['prec'] = data['prec'].str.replace(',', '.').astype(float)\n",
    "\n",
    "data.info(verbose=True)"
   ]
  },
  {
   "cell_type": "markdown",
   "id": "be06f3b0",
   "metadata": {},
   "source": [
    "#### La columna 'error' nos indica si ha habido al menos una muestra errónea o sustituida en el periodo de 15 minutos. Tiene 3 posibles valores:\n",
    "#### - N: no ha habido errores ni sustituciones.\n",
    "#### - E: los parámetros de calidad de alguna de las muestras integradas no son óptimos.\n",
    "#### - S: alguna de las muestras recibidas era totalmente errónea y no se ha integrado.\n",
    "#### Vamos a obtener los valores únicos presentes en dicha columna. Si hay un solo valor de los tres posibles, podemos eliminar la columna."
   ]
  },
  {
   "cell_type": "code",
   "execution_count": 16,
   "id": "afd2ef40",
   "metadata": {},
   "outputs": [
    {
     "data": {
      "text/plain": [
       "array(['N', ''], dtype=object)"
      ]
     },
     "execution_count": 16,
     "metadata": {},
     "output_type": "execute_result"
    }
   ],
   "source": [
    "data['error'].unique()"
   ]
  },
  {
   "cell_type": "code",
   "execution_count": 17,
   "id": "b8cd59b8",
   "metadata": {},
   "outputs": [
    {
     "name": "stderr",
     "output_type": "stream",
     "text": [
      "C:\\Users\\jacbj\\AppData\\Local\\Temp\\ipykernel_9168\\3782427630.py:1: SettingWithCopyWarning: \n",
      "A value is trying to be set on a copy of a slice from a DataFrame\n",
      "\n",
      "See the caveats in the documentation: https://pandas.pydata.org/pandas-docs/stable/user_guide/indexing.html#returning-a-view-versus-a-copy\n",
      "  data.drop(columns='error', inplace=True)\n"
     ]
    }
   ],
   "source": [
    "data.drop(columns='error', inplace=True)"
   ]
  },
  {
   "cell_type": "markdown",
   "id": "488a00a5",
   "metadata": {},
   "source": [
    "## 3. EXTRACCIÓN DE INFORMACIÓN RELEVANTE"
   ]
  },
  {
   "cell_type": "markdown",
   "id": "7cf85159",
   "metadata": {},
   "source": [
    "### 3.1. COLUMNA TIPO_ELEM"
   ]
  },
  {
   "cell_type": "markdown",
   "id": "d3269f1e",
   "metadata": {},
   "source": [
    "#### Vamos a estudiar los datos, en primer lugar, atendiendo a la columna tipo_elem"
   ]
  },
  {
   "cell_type": "markdown",
   "id": "3ce7772d",
   "metadata": {},
   "source": [
    "#### De la información que se puede obtener del documento donde se explica la estructura del conjunto de datos del tráfico, sabemos que la carga no se calcula para la M30 y su valor es 0, salvo para algunos puntos de medida donde sí se realiza el cálculo de dicho parámetro. Veamos cuántos valores hay recogidos para tipo_elem == 'M30' y cuántos de ellos tienen el valor de carga == 0 y cuántos no."
   ]
  },
  {
   "cell_type": "code",
   "execution_count": 30,
   "id": "83769ec4",
   "metadata": {},
   "outputs": [
    {
     "name": "stdout",
     "output_type": "stream",
     "text": [
      "Hay 237740 registros de tráfico recogidos para tipo_elem == 'M30'\n"
     ]
    }
   ],
   "source": [
    "query1 = (data['tipo_elem'] == 'M30')\n",
    "m30_values = query1.sum()\n",
    "print(f\"Hay {m30_values} registros de tráfico recogidos para tipo_elem == 'M30'\")"
   ]
  },
  {
   "cell_type": "markdown",
   "id": "cfd6c30c",
   "metadata": {},
   "source": [
    "#### Veamos cuántos de esos valores presentan un valor de carga == 0:"
   ]
  },
  {
   "cell_type": "code",
   "execution_count": 31,
   "id": "f9600778",
   "metadata": {},
   "outputs": [
    {
     "name": "stdout",
     "output_type": "stream",
     "text": [
      "Hay 21397 registros de tráfico recogidos para tipo_elem == 'M30' en los que el valor de la carga es 0\n"
     ]
    }
   ],
   "source": [
    "query2 = ((data['tipo_elem'] == 'M30') &\n",
    "          (data['carga'] == 0))\n",
    "m30_zero_values = query2.sum()\n",
    "print(f\"Hay {m30_zero_values} registros de tráfico recogidos para tipo_elem == 'M30' en los que el valor de la carga es 0\")"
   ]
  },
  {
   "cell_type": "markdown",
   "id": "4de0384a",
   "metadata": {},
   "source": [
    "#### Veamos ahora cuántos de esos valores presentan un valor de carga != 0:"
   ]
  },
  {
   "cell_type": "code",
   "execution_count": 32,
   "id": "d90ed171",
   "metadata": {},
   "outputs": [
    {
     "name": "stdout",
     "output_type": "stream",
     "text": [
      "Hay 216343 registros de tráfico recogidos para tipo_elem == 'M30' en los que el valor de la carga es distinto de 0\n"
     ]
    }
   ],
   "source": [
    "query3 = ((data['tipo_elem'] == 'M30') &\n",
    "          (data['carga'] != 0))\n",
    "m30_non_zero_values = query3.sum()\n",
    "print(f\"Hay {m30_non_zero_values} registros de tráfico recogidos para tipo_elem == 'M30' en los que el valor de la carga es distinto de 0\")"
   ]
  },
  {
   "cell_type": "code",
   "execution_count": 33,
   "id": "cb5ac1b7",
   "metadata": {},
   "outputs": [
    {
     "name": "stdout",
     "output_type": "stream",
     "text": [
      "El 9.00% de los registros de tráfico recogidos para tipo_elem == M30 tienen un valor de carga 0\n"
     ]
    }
   ],
   "source": [
    "percentage_m30_zero_values = m30_zero_values/m30_values*100\n",
    "print(f\"El {percentage_m30_zero_values:.2f}% de los registros de tráfico recogidos para tipo_elem == M30 tienen un valor de carga 0\")"
   ]
  },
  {
   "cell_type": "markdown",
   "id": "a2f8d2d9",
   "metadata": {},
   "source": [
    "#### Por lo tanto, para la gran mayoría de los datos de tráfico recogidos por tipo_elem == 'M30', el valor de carga es distinto de 0"
   ]
  },
  {
   "cell_type": "markdown",
   "id": "99243177",
   "metadata": {},
   "source": [
    "#### Necesitamos hacer ciertas comprobaciones respecto a algunas columnas, como por ejemplo vmed y carga ya que, como se especifica en la descripción del conjunto de datos en la página web del Ayuntamiento de Madrid, solo se recogen datos de vmed si tipo_elem es M30, por lo que tendremos muchos valores 0 para los valores de tipo_elem distintos de M30. \n",
    "#### A priori, si los valores de vmed son 0, cabe esperar que los valores de carga para dichos registros sean o muy bajos (porque no hay tráfico) o muy altos (hay mucho tráfico y por tanto congestión).\n",
    "#### Comenzaremos estudiando tipo_elem == 'C30'"
   ]
  },
  {
   "cell_type": "code",
   "execution_count": 34,
   "id": "cc36dcd0",
   "metadata": {},
   "outputs": [
    {
     "name": "stdout",
     "output_type": "stream",
     "text": [
      "Hay 0 registros de tráfico recogidos para tipo_elem == 'C30'\n"
     ]
    }
   ],
   "source": [
    "query4 = (data['tipo_elem'] == 'C30')\n",
    "c30_values = query4.sum()\n",
    "print(f\"Hay {c30_values} registros de tráfico recogidos para tipo_elem == 'C30'\")"
   ]
  },
  {
   "cell_type": "markdown",
   "id": "80a0addc",
   "metadata": {},
   "source": [
    "#### Estudiamos ahora cuántos de estos registros presentan valores de vmed == 0"
   ]
  },
  {
   "cell_type": "code",
   "execution_count": 35,
   "id": "ba2ec1de",
   "metadata": {},
   "outputs": [
    {
     "name": "stdout",
     "output_type": "stream",
     "text": [
      "Hay 0 registros de tráfico recogidos para tipo_elem == 'C30' para los que vmed es 0\n"
     ]
    }
   ],
   "source": [
    "query5 = ((data['tipo_elem'] == 'C30') &\n",
    "    (data['vmed'] == 0))\n",
    "\n",
    "c30_zero_vmed_values = query5.sum()\n",
    "print(f\"Hay {c30_zero_vmed_values} registros de tráfico recogidos para tipo_elem == 'C30' para los que vmed es 0\")"
   ]
  },
  {
   "cell_type": "markdown",
   "id": "26fdfb9f",
   "metadata": {},
   "source": [
    "#### Ahora, para estos valores calculamos cuáles presentan un valor de carga == 0."
   ]
  },
  {
   "cell_type": "code",
   "execution_count": 36,
   "id": "b146afdf",
   "metadata": {},
   "outputs": [
    {
     "name": "stdout",
     "output_type": "stream",
     "text": [
      "Hay 0 registros de tráfico recogidos para tipo_elem == 'C30' para los que vmed y carga son 0\n"
     ]
    }
   ],
   "source": [
    "query6 = ((data['tipo_elem'] == 'C30') &\n",
    "    (data['vmed'] == 0) &\n",
    "    (data['carga'] == 0))\n",
    "\n",
    "c30_zero_vmed_and_carga_values = query6.sum()\n",
    "print(f\"Hay {c30_zero_vmed_and_carga_values} registros de tráfico recogidos para tipo_elem == 'C30' para los que vmed y carga son 0\")"
   ]
  },
  {
   "cell_type": "markdown",
   "id": "cd28a4b1",
   "metadata": {},
   "source": [
    "#### Nos centramos ahora en aquellos valores de tráfico recogidos por tipo_elem == 'C30' en los que vmed no es 0. Solo tenemos que restar c30_values y c30_zero_vmed_values"
   ]
  },
  {
   "cell_type": "code",
   "execution_count": 37,
   "id": "3bded02b",
   "metadata": {},
   "outputs": [
    {
     "data": {
      "text/plain": [
       "0"
      ]
     },
     "execution_count": 37,
     "metadata": {},
     "output_type": "execute_result"
    }
   ],
   "source": [
    "c30_non_zero_vmed_values = c30_values - c30_zero_vmed_values\n",
    "c30_non_zero_vmed_values"
   ]
  },
  {
   "cell_type": "markdown",
   "id": "06cf91f4",
   "metadata": {},
   "source": [
    "#### Vemos cuántos de dichos valores presentan un valor de carga == 0."
   ]
  },
  {
   "cell_type": "code",
   "execution_count": 38,
   "id": "b35168b7",
   "metadata": {},
   "outputs": [
    {
     "name": "stdout",
     "output_type": "stream",
     "text": [
      "Hay 0 registros de tráfico recogidos para tipo_elem == 'C30' para los que vmed es 0 y carga es distinto de 0\n"
     ]
    }
   ],
   "source": [
    "query7 = ((data['tipo_elem'] == 'C30') &\n",
    "    (data['vmed'] != 0) &\n",
    "    (data['carga'] == 0))\n",
    "\n",
    "c30_non_zero_vmed_and_zero_carga_values = query7.sum()\n",
    "print(f\"Hay {c30_non_zero_vmed_and_zero_carga_values} registros de tráfico recogidos para tipo_elem == 'C30' para los que vmed es 0 y carga es distinto de 0\")"
   ]
  },
  {
   "cell_type": "markdown",
   "id": "deb1bf44",
   "metadata": {},
   "source": [
    "#### Podemos concluir que, para tipo_elem == 'C30', independientemente del valor de vmed, la carga es 0, es decir, no se recogen valores de carga para dicho tipo_elem. Se podrían eliminar todas las filas relativas a tipo_elem == 'C30'."
   ]
  },
  {
   "cell_type": "markdown",
   "id": "f2aebe07",
   "metadata": {},
   "source": [
    "#### Pasamos a estudiar, por último, el tipo_elem que nos queda: 'URB'"
   ]
  },
  {
   "cell_type": "code",
   "execution_count": 39,
   "id": "8be14b4f",
   "metadata": {},
   "outputs": [
    {
     "name": "stdout",
     "output_type": "stream",
     "text": [
      "Hay 1394196 registros de tráfico recogidos para tipo_elem == 'URB'\n"
     ]
    }
   ],
   "source": [
    "query8 = (data['tipo_elem'] == 'URB')\n",
    "\n",
    "urb_values = query8.sum()\n",
    "print(f\"Hay {urb_values} registros de tráfico recogidos para tipo_elem == 'URB'\")"
   ]
  },
  {
   "cell_type": "markdown",
   "id": "c800cf0f",
   "metadata": {},
   "source": [
    "#### Veamos cuántos de dichos valores presentan un valor de carga == 0"
   ]
  },
  {
   "cell_type": "code",
   "execution_count": 40,
   "id": "7dde5082",
   "metadata": {},
   "outputs": [
    {
     "name": "stdout",
     "output_type": "stream",
     "text": [
      "Hay 20938 registros de tráfico recogidos para tipo_elem == 'URB' en los que el valor de la carga es 0\n"
     ]
    }
   ],
   "source": [
    "query9 = ((data['tipo_elem'] == 'URB') &\n",
    "          (data['carga'] == 0))\n",
    "\n",
    "urb_zero_carga_values = query9.sum()\n",
    "print(f\"Hay {urb_zero_carga_values} registros de tráfico recogidos para tipo_elem == 'URB' en los que el valor de la carga es 0\")"
   ]
  },
  {
   "cell_type": "code",
   "execution_count": 41,
   "id": "bbb861bc",
   "metadata": {},
   "outputs": [
    {
     "name": "stdout",
     "output_type": "stream",
     "text": [
      "Hay 1373258 registros de tráfico recogidos para tipo_elem == 'URB' en los que el valor de la carga es distinto 0\n"
     ]
    }
   ],
   "source": [
    "urb_non_zero_carga_values = urb_values - urb_zero_carga_values\n",
    "print(f\"Hay {urb_non_zero_carga_values} registros de tráfico recogidos para tipo_elem == 'URB' en los que el valor de la carga es distinto 0\")"
   ]
  },
  {
   "cell_type": "markdown",
   "id": "07179a87",
   "metadata": {},
   "source": [
    "## 4. OUTLIER DETECTION"
   ]
  },
  {
   "cell_type": "code",
   "execution_count": 53,
   "id": "fb538a1c",
   "metadata": {},
   "outputs": [
    {
     "data": {
      "image/png": "[encoded data removed]",
      "text/plain": [
       "<Figure size 640x480 with 1 Axes>"
      ]
     },
     "metadata": {},
     "output_type": "display_data"
    }
   ],
   "source": [
    "plt.scatter(x=data['carga'], y=data['intensidad'])\n",
    "plt.title(\"Outlier Detection\")\n",
    "plt.xlabel('Carga')\n",
    "plt.ylabel('Intensidad')\n",
    "plt.show()"
   ]
  }
 ],
 "metadata": {
  "kernelspec": {
   "display_name": "base",
   "language": "python",
   "name": "python3"
  },
  "language_info": {
   "codemirror_mode": {
    "name": "ipython",
    "version": 3
   },
   "file_extension": ".py",
   "mimetype": "text/x-python",
   "name": "python",
   "nbconvert_exporter": "python",
   "pygments_lexer": "ipython3",
   "version": "3.12.7"
  }
 },
 "nbformat": 4,
 "nbformat_minor": 5
}
